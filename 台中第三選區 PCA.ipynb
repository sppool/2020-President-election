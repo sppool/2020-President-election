{
 "cells": [
  {
   "cell_type": "markdown",
   "metadata": {},
   "source": [
    "# [延伸閱讀](https://www.thenewslens.com/article/130173?fbclid=IwAR3EZ1OjBKz4L1ZCC7pZT-LJ71pFvNt_e5AbKJCEV_0uboX_z5HOEZaFkSs)"
   ]
  },
  {
   "cell_type": "code",
   "execution_count": 1,
   "metadata": {},
   "outputs": [],
   "source": [
    "import numpy as np\n",
    "import pandas as pd\n",
    "import sklearn\n",
    "import sklearn.linear_model\n",
    "import sklearn.decomposition # 特徵擷取降維\n",
    "import os\n",
    "import geopandas as gp\n",
    "import matplotlib\n",
    "import matplotlib.pyplot as plt\n",
    "plt.rcParams['font.sans-serif'] = ['Taipei Sans TC Beta'] # 中文輸出(台北黑體)\n",
    "%matplotlib inline\n",
    "import pickle\n",
    "\n",
    "# pd.set_option('display.max_columns', 100)\n",
    "# pd.set_option('display.max_rows', 50)"
   ]
  },
  {
   "cell_type": "code",
   "execution_count": 2,
   "metadata": {},
   "outputs": [],
   "source": [
    "def read_party_vote(file_path):\n",
    "    cols = ['行政區', '村里', '投票所', '合一行動聯盟', '中華統一促進黨', '親民黨', '安定力量', '台灣基進', '時代力量', '新黨', '喜樂島聯盟', '中國國民黨', '一邊一國行動黨', '勞動黨', '綠黨', '宗教聯盟', '民主進步黨', '台灣民眾黨', '台灣維新', '台澎黨', '國會政黨聯盟', '台灣團結聯盟']\n",
    "    \n",
    "    df = pd.read_excel(file_path)\n",
    "    df = df.iloc[5:, :22]\n",
    "    df.columns = cols\n",
    "\n",
    "    dft = df.T\n",
    "\n",
    "    area = '' # 補上 '村里'的'行政區'\n",
    "    for i in dft:\n",
    "        if type(dft[i]['村里']) == float:\n",
    "            area = dft[i]['行政區'][1:]\n",
    "        else:\n",
    "            df['行政區'][i] = area\n",
    "\n",
    "    df = df[df['村里'].notnull()]\n",
    "    \n",
    "    # 留下需要的 columns\n",
    "    cols = ['行政區', '村里', '投票所', '親民黨', '台灣基進', '時代力量', '中國國民黨', '民主進步黨', '台灣民眾黨']\n",
    "    df = df.reset_index()[cols]\n",
    "    # 票數是字串 需要移除 ',' 並組合轉成 (int)\n",
    "    cols = ['親民黨', '台灣基進', '時代力量', '中國國民黨', '民主進步黨', '台灣民眾黨']\n",
    "    for p in cols:\n",
    "        df[p] = df[p].str.split(',').str.join('')\n",
    "    # 轉成int\n",
    "    df[cols] = df[cols].astype(float)\n",
    "    # 轉成每一里的比例\n",
    "#     df[cols] = (df[cols].T / df[cols].sum(1) * 100).T\n",
    "\n",
    "    df['key'] = df['行政區'] + df['村里'] + df['投票所']\n",
    "\n",
    "    return df\n",
    "\n",
    "def read_vote(file_path):\n",
    "    cols = ['行政區', '村里', '投票所', '宋', '韓', '蔡']\n",
    "\n",
    "    df = pd.read_excel(file_path)\n",
    "    df = df.iloc[5:, 0:6]\n",
    "    df.columns = cols\n",
    "    dft = df.T\n",
    "\n",
    "    area = ''\n",
    "    for i in dft:\n",
    "        if type(dft[i]['村里']) == float:\n",
    "            area = dft[i]['行政區'][1:]\n",
    "        else:\n",
    "            df['行政區'][i] = area\n",
    "\n",
    "    df = df[df['村里'].notnull()].reset_index()[cols]\n",
    "    \n",
    "    # 票數是字串 需要移除 ',' 並組合轉成 (int)\n",
    "    cols = ['宋', '韓', '蔡']\n",
    "    for p in cols:\n",
    "        df[p] = df[p].str.split(',').str.join('')\n",
    "    # 轉成int\n",
    "    df[cols] = df[cols].astype(float)\n",
    "    # 轉成每一里的比例\n",
    "#     df[cols] = (df[cols].T / df[cols].sum(1) * 100).T\n",
    "\n",
    "    df['key'] = df['行政區'] + df['村里'] + df['投票所']\n",
    "\n",
    "    return df"
   ]
  },
  {
   "cell_type": "markdown",
   "metadata": {},
   "source": [
    "### 總統剽和政黨票"
   ]
  },
  {
   "cell_type": "code",
   "execution_count": 3,
   "metadata": {},
   "outputs": [],
   "source": [
    "p_df = read_vote('總統票/總統-A05-4-候選人得票數一覽表-各投開票所(臺中市).xls')\n",
    "party_df = read_party_vote('立委票/不分區立委-A05-6-得票數一覽表(臺中市).xls')"
   ]
  },
  {
   "cell_type": "code",
   "execution_count": 16,
   "metadata": {},
   "outputs": [],
   "source": [
    "# 獲取 台中第三選區 地方立委選票\n",
    "df = pd.read_excel('立委票/區域立委-A05-2-得票數一覽表(臺中市).xls', sheet_name='臺中市第3選舉區')\n",
    "cols = ['行政區', '村里', '投票所', '洪慈庸', '張睿倉', '楊瓊瓔']\n",
    "df = df.iloc[5:, [0, 1, 2, 5, 6, 8]]\n",
    "df.columns = cols\n",
    "\n",
    "dft = df.T\n",
    "\n",
    "area = '' # 補上 '村里'的'行政區'\n",
    "for i in dft:\n",
    "    if type(dft[i]['村里']) == float:\n",
    "        area = dft[i]['行政區'][1:]\n",
    "    else:\n",
    "        df['行政區'][i] = area\n",
    "\n",
    "df = df[df['村里'].notnull()].reset_index()[cols]\n",
    "\n",
    "cols = ['洪慈庸', '張睿倉', '楊瓊瓔']\n",
    "\n",
    "# 票數是字串 需要移除 ',' 並組合轉成 (int)\n",
    "for p in cols: \n",
    "    df[p] = df[p].str.split(',').str.join('')\n",
    "# 轉成int\n",
    "df[cols] = df[cols].astype(float)\n",
    "# 轉成每一里的比例\n",
    "# df[cols] = (df[cols].T / df[cols].sum(1) * 100).T\n",
    "df['投票所'] = '0' + df['投票所']\n",
    "df['key'] = df['行政區'] + df['村里'] + df['投票所']\n",
    "area_df = df"
   ]
  },
  {
   "cell_type": "code",
   "execution_count": 17,
   "metadata": {},
   "outputs": [],
   "source": [
    "cols = ['key', '行政區', '村里', '洪慈庸', '張睿倉', '楊瓊瓔', '時代力量', '中國國民黨', '民主進步黨', '台灣民眾黨', '宋', '韓', '蔡']\n",
    "df = area_df.merge(party_df, on='key')\n",
    "df = df.merge(p_df, on='key')[cols]\n",
    "\n",
    "df['key'] = df['行政區'] + df['村里']\n",
    "# 同里不同投票所的組合\n",
    "df = df.groupby('key').sum()\n",
    "cols = df.columns"
   ]
  },
  {
   "cell_type": "code",
   "execution_count": 18,
   "metadata": {},
   "outputs": [],
   "source": [
    "cols = ['洪慈庸', '張睿倉', '楊瓊瓔']\n",
    "df[cols] = (df[cols].T / df[cols].sum(1) * 100).T\n",
    "cols = ['時代力量', '中國國民黨', '民主進步黨', '台灣民眾黨']\n",
    "df[cols] = (df[cols].T / df[cols].sum(1) * 100).T\n",
    "cols = ['宋', '韓', '蔡']\n",
    "df[cols] = (df[cols].T / df[cols].sum(1) * 100).T\n",
    "cols = df.columns"
   ]
  },
  {
   "cell_type": "code",
   "execution_count": 19,
   "metadata": {},
   "outputs": [],
   "source": [
    "# df[cols] = sklearn.preprocessing.minmax_scale(df.values)"
   ]
  },
  {
   "cell_type": "code",
   "execution_count": 21,
   "metadata": {},
   "outputs": [],
   "source": [
    "Y_G = df.民主進步黨.values\n",
    "Y_B = df.中國國民黨.values"
   ]
  },
  {
   "cell_type": "code",
   "execution_count": 27,
   "metadata": {},
   "outputs": [
    {
     "name": "stdout",
     "output_type": "stream",
     "text": [
      "LinearRegression(copy_X=True, fit_intercept=True, n_jobs=None, normalize=False)\n",
      "洪慈庸 [-0.78523674] 0.5518596529974567\n",
      "LinearRegression(copy_X=True, fit_intercept=True, n_jobs=None, normalize=False)\n",
      "張睿倉 [-0.3258725] 0.020693378084456704\n",
      "LinearRegression(copy_X=True, fit_intercept=True, n_jobs=None, normalize=False)\n",
      "楊瓊瓔 [1.04559625] 0.8012356364650741\n"
     ]
    },
    {
     "data": {
      "image/png": "[encoded data removed]",
      "text/plain": [
       "<Figure size 360x360 with 1 Axes>"
      ]
     },
     "metadata": {
      "needs_background": "light"
     },
     "output_type": "display_data"
    },
    {
     "data": {
      "image/png": "[encoded data removed]",
      "text/plain": [
       "<Figure size 360x360 with 1 Axes>"
      ]
     },
     "metadata": {
      "needs_background": "light"
     },
     "output_type": "display_data"
    },
    {
     "data": {
      "image/png": "[encoded data removed]",
      "text/plain": [
       "<Figure size 360x360 with 1 Axes>"
      ]
     },
     "metadata": {
      "needs_background": "light"
     },
     "output_type": "display_data"
    }
   ],
   "source": [
    "Y = Y_B\n",
    "mod = sklearn.linear_model.LinearRegression()\n",
    "for col in ['洪慈庸', '張睿倉', '楊瓊瓔']:\n",
    "    X = df[[col]].values\n",
    "    mod.fit(X, Y)\n",
    "    print(mod)\n",
    "    print(col, mod.coef_, mod.score(X, Y))\n",
    "    \n",
    "    line_x = np.linspace(0, 70, 2)\n",
    "    line_y = mod.predict(line_x.reshape(-1, 1))\n",
    "    plt.figure(figsize=(5, 5))\n",
    "    plt.plot(X, Y, '.')\n",
    "    plt.plot(line_x, line_y, lw=2)\n",
    "#     plt.axis([0, 1.1, 0, 1.1])"
   ]
  },
  {
   "cell_type": "code",
   "execution_count": 28,
   "metadata": {
    "scrolled": true
   },
   "outputs": [],
   "source": [
    "# 分類不同勢力 (得票率都在同軸 並不能表現出不同, 投影到XY軸的三個方向(0, 90, 180度))\n",
    "angle = np.linspace(0, np.pi, 3, endpoint=True)\n",
    "G_B_T = [0, 1, 2, 1, 2, 0, 1, 1, 2, 0]\n",
    "df = pd.concat([df * np.sin(angle[G_B_T]), df * np.cos(angle[G_B_T])])"
   ]
  },
  {
   "cell_type": "code",
   "execution_count": 29,
   "metadata": {},
   "outputs": [
    {
     "data": {
      "text/plain": [
       "Text(0, 0.5, 'PC 1')"
      ]
     },
     "execution_count": 29,
     "metadata": {},
     "output_type": "execute_result"
    },
    {
     "data": {
      "image/png": "[encoded data removed]",
      "text/plain": [
       "<Figure size 576x576 with 1 Axes>"
      ]
     },
     "metadata": {
      "needs_background": "light"
     },
     "output_type": "display_data"
    }
   ],
   "source": [
    "X = df.values.T\n",
    "\n",
    "pca = sklearn.decomposition.PCA(n_components=2)\n",
    "pca.fit(X)\n",
    "trans = pca.transform(X)\n",
    "\n",
    "fig = plt.figure(figsize=(8, 8))\n",
    "ax = plt.gca()\n",
    "ax.plot(trans[:, 0], trans[:, 1], 'bo')\n",
    "for i, text in enumerate(cols):\n",
    "    ax.text(trans[i, 0], trans[i, 1], text, fontsize=15)\n",
    "ax.grid(True)\n",
    "ax.axis('equal')\n",
    "ax.set_title('PCA')\n",
    "ax.set_xlabel(\"PC 0\")\n",
    "ax.set_ylabel(\"PC 1\")"
   ]
  },
  {
   "cell_type": "code",
   "execution_count": 30,
   "metadata": {},
   "outputs": [
    {
     "name": "stdout",
     "output_type": "stream",
     "text": [
      "主成分組成平方和\n",
      " [1. 1.]\n",
      "PC 影響程度:\n",
      " [0.97236921 0.02491681]\n"
     ]
    }
   ],
   "source": [
    "print('主成分組成平方和\\n', (pca.components_**2).sum(1))\n",
    "print('PC 影響程度:\\n', pca.explained_variance_ratio_)"
   ]
  },
  {
   "cell_type": "code",
   "execution_count": 31,
   "metadata": {},
   "outputs": [
    {
     "data": {
      "text/plain": [
       "array([-5.68434189e-15, -6.39488462e-15])"
      ]
     },
     "execution_count": 31,
     "metadata": {},
     "output_type": "execute_result"
    }
   ],
   "source": [
    "trans.mean(0)"
   ]
  },
  {
   "cell_type": "code",
   "execution_count": 32,
   "metadata": {},
   "outputs": [
    {
     "data": {
      "text/html": [
       "<div>\n",
       "<style scoped>\n",
       "    .dataframe tbody tr th:only-of-type {\n",
       "        vertical-align: middle;\n",
       "    }\n",
       "\n",
       "    .dataframe tbody tr th {\n",
       "        vertical-align: top;\n",
       "    }\n",
       "\n",
       "    .dataframe thead th {\n",
       "        text-align: right;\n",
       "    }\n",
       "</style>\n",
       "<table border=\"1\" class=\"dataframe\">\n",
       "  <thead>\n",
       "    <tr style=\"text-align: right;\">\n",
       "      <th></th>\n",
       "      <th>洪慈庸</th>\n",
       "      <th>張睿倉</th>\n",
       "      <th>楊瓊瓔</th>\n",
       "      <th>時代力量</th>\n",
       "      <th>中國國民黨</th>\n",
       "      <th>民主進步黨</th>\n",
       "      <th>台灣民眾黨</th>\n",
       "      <th>宋</th>\n",
       "      <th>韓</th>\n",
       "      <th>蔡</th>\n",
       "    </tr>\n",
       "    <tr>\n",
       "      <th>key</th>\n",
       "      <th></th>\n",
       "      <th></th>\n",
       "      <th></th>\n",
       "      <th></th>\n",
       "      <th></th>\n",
       "      <th></th>\n",
       "      <th></th>\n",
       "      <th></th>\n",
       "      <th></th>\n",
       "      <th></th>\n",
       "    </tr>\n",
       "  </thead>\n",
       "  <tbody>\n",
       "    <tr>\n",
       "      <th>后里區中和里</th>\n",
       "      <td>0.000000</td>\n",
       "      <td>4.814004e+00</td>\n",
       "      <td>4.937444e-15</td>\n",
       "      <td>8.760545e+00</td>\n",
       "      <td>4.394742e-15</td>\n",
       "      <td>0.000000</td>\n",
       "      <td>1.563920e+01</td>\n",
       "      <td>4.508419e+00</td>\n",
       "      <td>4.210763e-15</td>\n",
       "      <td>0.000000</td>\n",
       "    </tr>\n",
       "    <tr>\n",
       "      <th>后里區仁里里</th>\n",
       "      <td>0.000000</td>\n",
       "      <td>3.103914e+00</td>\n",
       "      <td>5.949701e-15</td>\n",
       "      <td>7.131537e+00</td>\n",
       "      <td>5.298393e-15</td>\n",
       "      <td>0.000000</td>\n",
       "      <td>1.109350e+01</td>\n",
       "      <td>5.555556e+00</td>\n",
       "      <td>4.827311e-15</td>\n",
       "      <td>0.000000</td>\n",
       "    </tr>\n",
       "    <tr>\n",
       "      <th>后里區公館里</th>\n",
       "      <td>0.000000</td>\n",
       "      <td>3.679793e+00</td>\n",
       "      <td>5.716073e-15</td>\n",
       "      <td>8.908686e+00</td>\n",
       "      <td>4.654931e-15</td>\n",
       "      <td>0.000000</td>\n",
       "      <td>1.284336e+01</td>\n",
       "      <td>4.646722e+00</td>\n",
       "      <td>4.349796e-15</td>\n",
       "      <td>0.000000</td>\n",
       "    </tr>\n",
       "    <tr>\n",
       "      <th>后里區厚里里</th>\n",
       "      <td>0.000000</td>\n",
       "      <td>3.715170e+00</td>\n",
       "      <td>6.134608e-15</td>\n",
       "      <td>7.861190e+00</td>\n",
       "      <td>4.987053e-15</td>\n",
       "      <td>0.000000</td>\n",
       "      <td>1.579320e+01</td>\n",
       "      <td>5.156538e+00</td>\n",
       "      <td>4.818899e-15</td>\n",
       "      <td>0.000000</td>\n",
       "    </tr>\n",
       "    <tr>\n",
       "      <th>后里區后里里</th>\n",
       "      <td>0.000000</td>\n",
       "      <td>4.955437e+00</td>\n",
       "      <td>5.632065e-15</td>\n",
       "      <td>8.018092e+00</td>\n",
       "      <td>5.025483e-15</td>\n",
       "      <td>0.000000</td>\n",
       "      <td>1.574836e+01</td>\n",
       "      <td>5.374823e+00</td>\n",
       "      <td>4.798121e-15</td>\n",
       "      <td>0.000000</td>\n",
       "    </tr>\n",
       "    <tr>\n",
       "      <th>...</th>\n",
       "      <td>...</td>\n",
       "      <td>...</td>\n",
       "      <td>...</td>\n",
       "      <td>...</td>\n",
       "      <td>...</td>\n",
       "      <td>...</td>\n",
       "      <td>...</td>\n",
       "      <td>...</td>\n",
       "      <td>...</td>\n",
       "      <td>...</td>\n",
       "    </tr>\n",
       "    <tr>\n",
       "      <th>神岡區社南里</th>\n",
       "      <td>52.755308</td>\n",
       "      <td>4.256545e-16</td>\n",
       "      <td>-4.029323e+01</td>\n",
       "      <td>5.342182e-16</td>\n",
       "      <td>-2.948460e+01</td>\n",
       "      <td>45.551396</td>\n",
       "      <td>9.943864e-16</td>\n",
       "      <td>2.799980e-16</td>\n",
       "      <td>-2.891054e+01</td>\n",
       "      <td>66.516742</td>\n",
       "    </tr>\n",
       "    <tr>\n",
       "      <th>神岡區社口里</th>\n",
       "      <td>51.696015</td>\n",
       "      <td>4.188088e-16</td>\n",
       "      <td>-4.146432e+01</td>\n",
       "      <td>5.514674e-16</td>\n",
       "      <td>-3.091757e+01</td>\n",
       "      <td>42.826870</td>\n",
       "      <td>1.056222e-15</td>\n",
       "      <td>3.002026e-16</td>\n",
       "      <td>-3.105031e+01</td>\n",
       "      <td>64.047007</td>\n",
       "    </tr>\n",
       "    <tr>\n",
       "      <th>神岡區神岡里</th>\n",
       "      <td>47.922912</td>\n",
       "      <td>4.248239e-16</td>\n",
       "      <td>-4.513919e+01</td>\n",
       "      <td>4.651668e-16</td>\n",
       "      <td>-3.631151e+01</td>\n",
       "      <td>40.850454</td>\n",
       "      <td>9.332593e-16</td>\n",
       "      <td>2.570823e-16</td>\n",
       "      <td>-3.651399e+01</td>\n",
       "      <td>59.287532</td>\n",
       "    </tr>\n",
       "    <tr>\n",
       "      <th>神岡區神洲里</th>\n",
       "      <td>53.021545</td>\n",
       "      <td>3.732502e-16</td>\n",
       "      <td>-4.088282e+01</td>\n",
       "      <td>4.444579e-16</td>\n",
       "      <td>-2.807439e+01</td>\n",
       "      <td>48.650270</td>\n",
       "      <td>9.807459e-16</td>\n",
       "      <td>2.924909e-16</td>\n",
       "      <td>-2.736241e+01</td>\n",
       "      <td>67.860852</td>\n",
       "    </tr>\n",
       "    <tr>\n",
       "      <th>神岡區豐洲里</th>\n",
       "      <td>51.122527</td>\n",
       "      <td>3.867796e-16</td>\n",
       "      <td>-4.256088e+01</td>\n",
       "      <td>4.465827e-16</td>\n",
       "      <td>-3.357934e+01</td>\n",
       "      <td>43.564142</td>\n",
       "      <td>9.529756e-16</td>\n",
       "      <td>3.216129e-16</td>\n",
       "      <td>-3.183178e+01</td>\n",
       "      <td>62.915888</td>\n",
       "    </tr>\n",
       "  </tbody>\n",
       "</table>\n",
       "<p>130 rows × 10 columns</p>\n",
       "</div>"
      ],
      "text/plain": [
       "              洪慈庸           張睿倉           楊瓊瓔          時代力量         中國國民黨  \\\n",
       "key                                                                         \n",
       "后里區中和里   0.000000  4.814004e+00  4.937444e-15  8.760545e+00  4.394742e-15   \n",
       "后里區仁里里   0.000000  3.103914e+00  5.949701e-15  7.131537e+00  5.298393e-15   \n",
       "后里區公館里   0.000000  3.679793e+00  5.716073e-15  8.908686e+00  4.654931e-15   \n",
       "后里區厚里里   0.000000  3.715170e+00  6.134608e-15  7.861190e+00  4.987053e-15   \n",
       "后里區后里里   0.000000  4.955437e+00  5.632065e-15  8.018092e+00  5.025483e-15   \n",
       "...           ...           ...           ...           ...           ...   \n",
       "神岡區社南里  52.755308  4.256545e-16 -4.029323e+01  5.342182e-16 -2.948460e+01   \n",
       "神岡區社口里  51.696015  4.188088e-16 -4.146432e+01  5.514674e-16 -3.091757e+01   \n",
       "神岡區神岡里  47.922912  4.248239e-16 -4.513919e+01  4.651668e-16 -3.631151e+01   \n",
       "神岡區神洲里  53.021545  3.732502e-16 -4.088282e+01  4.444579e-16 -2.807439e+01   \n",
       "神岡區豐洲里  51.122527  3.867796e-16 -4.256088e+01  4.465827e-16 -3.357934e+01   \n",
       "\n",
       "            民主進步黨         台灣民眾黨             宋             韓          蔡  \n",
       "key                                                                     \n",
       "后里區中和里   0.000000  1.563920e+01  4.508419e+00  4.210763e-15   0.000000  \n",
       "后里區仁里里   0.000000  1.109350e+01  5.555556e+00  4.827311e-15   0.000000  \n",
       "后里區公館里   0.000000  1.284336e+01  4.646722e+00  4.349796e-15   0.000000  \n",
       "后里區厚里里   0.000000  1.579320e+01  5.156538e+00  4.818899e-15   0.000000  \n",
       "后里區后里里   0.000000  1.574836e+01  5.374823e+00  4.798121e-15   0.000000  \n",
       "...           ...           ...           ...           ...        ...  \n",
       "神岡區社南里  45.551396  9.943864e-16  2.799980e-16 -2.891054e+01  66.516742  \n",
       "神岡區社口里  42.826870  1.056222e-15  3.002026e-16 -3.105031e+01  64.047007  \n",
       "神岡區神岡里  40.850454  9.332593e-16  2.570823e-16 -3.651399e+01  59.287532  \n",
       "神岡區神洲里  48.650270  9.807459e-16  2.924909e-16 -2.736241e+01  67.860852  \n",
       "神岡區豐洲里  43.564142  9.529756e-16  3.216129e-16 -3.183178e+01  62.915888  \n",
       "\n",
       "[130 rows x 10 columns]"
      ]
     },
     "execution_count": 32,
     "metadata": {},
     "output_type": "execute_result"
    }
   ],
   "source": [
    "df"
   ]
  },
  {
   "cell_type": "code",
   "execution_count": null,
   "metadata": {},
   "outputs": [],
   "source": []
  }
 ],
 "metadata": {
  "kernelspec": {
   "display_name": "Python 3",
   "language": "python",
   "name": "python3"
  },
  "language_info": {
   "codemirror_mode": {
    "name": "ipython",
    "version": 3
   },
   "file_extension": ".py",
   "mimetype": "text/x-python",
   "name": "python",
   "nbconvert_exporter": "python",
   "pygments_lexer": "ipython3",
   "version": "3.7.3"
  }
 },
 "nbformat": 4,
 "nbformat_minor": 2
}
